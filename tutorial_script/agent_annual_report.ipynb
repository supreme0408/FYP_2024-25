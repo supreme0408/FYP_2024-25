{
 "cells": [
  {
   "cell_type": "markdown",
   "metadata": {},
   "source": [
    "# Financial Analyst Agent for Annual Report Writing"
   ]
  },
  {
   "cell_type": "markdown",
   "metadata": {},
   "source": [
    "In this demo, we introduce an agent that can analyze financial report."
   ]
  },
  {
   "cell_type": "code",
   "execution_count": 1,
   "metadata": {},
   "outputs": [
    {
     "name": "stdout",
     "output_type": "stream",
     "text": [
      "Requirement already satisfied: autogen in d:\\anaconda3\\envs\\finrobot\\lib\\site-packages (0.7.6)\n",
      "Requirement already satisfied: pyautogen==0.7.6 in d:\\anaconda3\\envs\\finrobot\\lib\\site-packages (from autogen) (0.7.6)\n",
      "Requirement already satisfied: asyncer==0.0.8 in d:\\anaconda3\\envs\\finrobot\\lib\\site-packages (from pyautogen==0.7.6->autogen) (0.0.8)\n",
      "Requirement already satisfied: diskcache in d:\\anaconda3\\envs\\finrobot\\lib\\site-packages (from pyautogen==0.7.6->autogen) (5.6.3)\n",
      "Requirement already satisfied: docker in d:\\anaconda3\\envs\\finrobot\\lib\\site-packages (from pyautogen==0.7.6->autogen) (7.1.0)\n",
      "Requirement already satisfied: fast-depends<3,>=2.4.12 in d:\\anaconda3\\envs\\finrobot\\lib\\site-packages (from pyautogen==0.7.6->autogen) (2.4.12)\n",
      "Requirement already satisfied: httpx<1,>=0.28.1 in d:\\anaconda3\\envs\\finrobot\\lib\\site-packages (from pyautogen==0.7.6->autogen) (0.28.1)\n",
      "Requirement already satisfied: packaging in d:\\anaconda3\\envs\\finrobot\\lib\\site-packages (from pyautogen==0.7.6->autogen) (23.2)\n",
      "Requirement already satisfied: pydantic<3,>=2.6.1 in d:\\anaconda3\\envs\\finrobot\\lib\\site-packages (from pyautogen==0.7.6->autogen) (2.10.6)\n",
      "Requirement already satisfied: python-dotenv in d:\\anaconda3\\envs\\finrobot\\lib\\site-packages (from pyautogen==0.7.6->autogen) (1.0.1)\n",
      "Requirement already satisfied: termcolor in d:\\anaconda3\\envs\\finrobot\\lib\\site-packages (from pyautogen==0.7.6->autogen) (2.5.0)\n",
      "Requirement already satisfied: tiktoken in d:\\anaconda3\\envs\\finrobot\\lib\\site-packages (from pyautogen==0.7.6->autogen) (0.9.0)\n",
      "Requirement already satisfied: anyio<5.0,>=3.4.0 in d:\\anaconda3\\envs\\finrobot\\lib\\site-packages (from asyncer==0.0.8->pyautogen==0.7.6->autogen) (4.6.2)\n",
      "Requirement already satisfied: certifi in d:\\anaconda3\\envs\\finrobot\\lib\\site-packages (from httpx<1,>=0.28.1->pyautogen==0.7.6->autogen) (2025.1.31)\n",
      "Requirement already satisfied: httpcore==1.* in d:\\anaconda3\\envs\\finrobot\\lib\\site-packages (from httpx<1,>=0.28.1->pyautogen==0.7.6->autogen) (1.0.2)\n",
      "Requirement already satisfied: idna in d:\\anaconda3\\envs\\finrobot\\lib\\site-packages (from httpx<1,>=0.28.1->pyautogen==0.7.6->autogen) (3.7)\n",
      "Requirement already satisfied: h11<0.15,>=0.13 in d:\\anaconda3\\envs\\finrobot\\lib\\site-packages (from httpcore==1.*->httpx<1,>=0.28.1->pyautogen==0.7.6->autogen) (0.14.0)\n",
      "Requirement already satisfied: annotated-types>=0.6.0 in d:\\anaconda3\\envs\\finrobot\\lib\\site-packages (from pydantic<3,>=2.6.1->pyautogen==0.7.6->autogen) (0.7.0)\n",
      "Requirement already satisfied: pydantic-core==2.27.2 in d:\\anaconda3\\envs\\finrobot\\lib\\site-packages (from pydantic<3,>=2.6.1->pyautogen==0.7.6->autogen) (2.27.2)\n",
      "Requirement already satisfied: typing-extensions>=4.12.2 in d:\\anaconda3\\envs\\finrobot\\lib\\site-packages (from pydantic<3,>=2.6.1->pyautogen==0.7.6->autogen) (4.12.2)\n",
      "Requirement already satisfied: pywin32>=304 in d:\\anaconda3\\envs\\finrobot\\lib\\site-packages (from docker->pyautogen==0.7.6->autogen) (308)\n",
      "Requirement already satisfied: requests>=2.26.0 in d:\\anaconda3\\envs\\finrobot\\lib\\site-packages (from docker->pyautogen==0.7.6->autogen) (2.31.0)\n",
      "Requirement already satisfied: urllib3>=1.26.0 in d:\\anaconda3\\envs\\finrobot\\lib\\site-packages (from docker->pyautogen==0.7.6->autogen) (2.3.0)\n",
      "Requirement already satisfied: regex>=2022.1.18 in d:\\anaconda3\\envs\\finrobot\\lib\\site-packages (from tiktoken->pyautogen==0.7.6->autogen) (2024.11.6)\n",
      "Requirement already satisfied: sniffio>=1.1 in d:\\anaconda3\\envs\\finrobot\\lib\\site-packages (from anyio<5.0,>=3.4.0->asyncer==0.0.8->pyautogen==0.7.6->autogen) (1.3.0)\n",
      "Requirement already satisfied: exceptiongroup>=1.0.2 in d:\\anaconda3\\envs\\finrobot\\lib\\site-packages (from anyio<5.0,>=3.4.0->asyncer==0.0.8->pyautogen==0.7.6->autogen) (1.2.0)\n",
      "Requirement already satisfied: charset-normalizer<4,>=2 in d:\\anaconda3\\envs\\finrobot\\lib\\site-packages (from requests>=2.26.0->docker->pyautogen==0.7.6->autogen) (3.3.2)\n"
     ]
    }
   ],
   "source": [
    "# !pip install autogen"
   ]
  },
  {
   "cell_type": "code",
   "execution_count": 1,
   "metadata": {},
   "outputs": [
    {
     "name": "stdout",
     "output_type": "stream",
     "text": [
      "Name: pydantic\n",
      "Version: 2.10.6\n",
      "Summary: Data validation using Python type hints\n",
      "Home-page: https://github.com/pydantic/pydantic\n",
      "Author: \n",
      "Author-email: Samuel Colvin <s@muelcolvin.com>, Eric Jolibois <em.jolibois@gmail.com>, Hasan Ramezani <hasan.r67@gmail.com>, Adrian Garcia Badaracco <1755071+adriangb@users.noreply.github.com>, Terrence Dorsey <terry@pydantic.dev>, David Montague <david@pydantic.dev>, Serge Matveenko <lig@countzero.co>, Marcelo Trylesinski <marcelotryle@gmail.com>, Sydney Runkle <sydneymarierunkle@gmail.com>, David Hewitt <mail@davidhewitt.io>, Alex Hall <alex.mojaki@gmail.com>, Victorien Plot <contact@vctrn.dev>\n",
      "License-Expression: MIT\n",
      "Location: d:\\anaconda3\\envs\\finrobot\\lib\\site-packages\n",
      "Requires: annotated-types, pydantic-core, typing-extensions\n",
      "Required-by: chromadb, fast-depends, fastapi, langchain, langchain-core, langsmith, marker-pdf, pdftext, pyautogen, pydantic-settings, surya-ocr, texify\n",
      "Note: you may need to restart the kernel to use updated packages.\n"
     ]
    }
   ],
   "source": [
    "# %pip show pydantic"
   ]
  },
  {
   "cell_type": "code",
   "execution_count": 1,
   "metadata": {},
   "outputs": [],
   "source": [
    "import os\n",
    "import autogen\n",
    "from textwrap import dedent"
   ]
  },
  {
   "cell_type": "code",
   "execution_count": 2,
   "metadata": {},
   "outputs": [],
   "source": [
    "import sys\n",
    "\n",
    "sys.path.append(os.path.abspath(\"..\"))  # Add the parent directory\n",
    "from finrobot.utils import register_keys_from_json\n",
    "from finrobot.agents.workflow import SingleAssistantShadow"
   ]
  },
  {
   "cell_type": "markdown",
   "metadata": {},
   "source": [
    "After importing all the necessary packages and functions, we also need the config for OpenAI & SecApi & FMPApi here. \n",
    "- for openai configuration, rename OAI_CONFIG_LIST_sample to OAI_CONFIG_LIST and replace the api keys\n",
    "- for Sec_api & FMP_api configuration, rename config_api_keys_sample to config_api_keys and replace the api keys"
   ]
  },
  {
   "cell_type": "code",
   "execution_count": 3,
   "metadata": {},
   "outputs": [],
   "source": [
    "llm_config = {\n",
    "    \"config_list\": autogen.config_list_from_json(\n",
    "        \"../OAI_CONFIG_LIST\",\n",
    "        filter_dict={\n",
    "            \"model\": [\"llama-3.3-70b-versatile\"],\n",
    "        },\n",
    "    ),\n",
    "    \"timeout\": 120,\n",
    "    \"temperature\": 0.5,\n",
    "}\n",
    "register_keys_from_json(\"../config_api_keys\")"
   ]
  },
  {
   "cell_type": "code",
   "execution_count": 3,
   "metadata": {},
   "outputs": [],
   "source": [
    "# # ollama implementation\n",
    "\n",
    "# config_list = [{\n",
    "#     \"model\": \"llama-3.3-70b-versatile\",\n",
    "#     \"api_key\": os.environ.get(\"GROQ_API_KEY\"),\n",
    "#     \"api_type\": \"groq\"\n",
    "# }]\n",
    "# register_keys_from_json(\"../config_api_keys\")"
   ]
  },
  {
   "cell_type": "code",
   "execution_count": 5,
   "metadata": {},
   "outputs": [
    {
     "name": "stdout",
     "output_type": "stream",
     "text": [
      "Requirement already satisfied: ag2[openai] in d:\\anaconda3\\envs\\finrobot\\lib\\site-packages (0.7.6)\n",
      "Requirement already satisfied: pyautogen==0.7.6 in d:\\anaconda3\\envs\\finrobot\\lib\\site-packages (from ag2[openai]) (0.7.6)\n",
      "Requirement already satisfied: asyncer==0.0.8 in d:\\anaconda3\\envs\\finrobot\\lib\\site-packages (from pyautogen==0.7.6->ag2[openai]) (0.0.8)\n",
      "Requirement already satisfied: diskcache in d:\\anaconda3\\envs\\finrobot\\lib\\site-packages (from pyautogen==0.7.6->ag2[openai]) (5.6.3)\n",
      "Requirement already satisfied: docker in d:\\anaconda3\\envs\\finrobot\\lib\\site-packages (from pyautogen==0.7.6->ag2[openai]) (7.1.0)\n",
      "Requirement already satisfied: fast-depends<3,>=2.4.12 in d:\\anaconda3\\envs\\finrobot\\lib\\site-packages (from pyautogen==0.7.6->ag2[openai]) (2.4.12)\n",
      "Requirement already satisfied: httpx<1,>=0.28.1 in d:\\anaconda3\\envs\\finrobot\\lib\\site-packages (from pyautogen==0.7.6->ag2[openai]) (0.28.1)\n",
      "Requirement already satisfied: packaging in d:\\anaconda3\\envs\\finrobot\\lib\\site-packages (from pyautogen==0.7.6->ag2[openai]) (23.2)\n",
      "Requirement already satisfied: pydantic<3,>=2.6.1 in d:\\anaconda3\\envs\\finrobot\\lib\\site-packages (from pyautogen==0.7.6->ag2[openai]) (2.10.6)\n",
      "Requirement already satisfied: python-dotenv in d:\\anaconda3\\envs\\finrobot\\lib\\site-packages (from pyautogen==0.7.6->ag2[openai]) (1.0.1)\n",
      "Requirement already satisfied: termcolor in d:\\anaconda3\\envs\\finrobot\\lib\\site-packages (from pyautogen==0.7.6->ag2[openai]) (2.5.0)\n",
      "Requirement already satisfied: tiktoken in d:\\anaconda3\\envs\\finrobot\\lib\\site-packages (from pyautogen==0.7.6->ag2[openai]) (0.9.0)\n",
      "Requirement already satisfied: openai>=1.58 in d:\\anaconda3\\envs\\finrobot\\lib\\site-packages (from pyautogen[openai]==0.7.6; extra == \"openai\"->ag2[openai]) (1.65.2)\n",
      "Requirement already satisfied: anyio<5.0,>=3.4.0 in d:\\anaconda3\\envs\\finrobot\\lib\\site-packages (from asyncer==0.0.8->pyautogen==0.7.6->ag2[openai]) (4.6.2)\n",
      "Requirement already satisfied: certifi in d:\\anaconda3\\envs\\finrobot\\lib\\site-packages (from httpx<1,>=0.28.1->pyautogen==0.7.6->ag2[openai]) (2025.1.31)\n",
      "Requirement already satisfied: httpcore==1.* in d:\\anaconda3\\envs\\finrobot\\lib\\site-packages (from httpx<1,>=0.28.1->pyautogen==0.7.6->ag2[openai]) (1.0.2)\n",
      "Requirement already satisfied: idna in d:\\anaconda3\\envs\\finrobot\\lib\\site-packages (from httpx<1,>=0.28.1->pyautogen==0.7.6->ag2[openai]) (3.7)\n",
      "Requirement already satisfied: h11<0.15,>=0.13 in d:\\anaconda3\\envs\\finrobot\\lib\\site-packages (from httpcore==1.*->httpx<1,>=0.28.1->pyautogen==0.7.6->ag2[openai]) (0.14.0)\n",
      "Requirement already satisfied: distro<2,>=1.7.0 in d:\\anaconda3\\envs\\finrobot\\lib\\site-packages (from openai>=1.58->pyautogen[openai]==0.7.6; extra == \"openai\"->ag2[openai]) (1.9.0)\n",
      "Requirement already satisfied: jiter<1,>=0.4.0 in d:\\anaconda3\\envs\\finrobot\\lib\\site-packages (from openai>=1.58->pyautogen[openai]==0.7.6; extra == \"openai\"->ag2[openai]) (0.8.2)\n",
      "Requirement already satisfied: sniffio in d:\\anaconda3\\envs\\finrobot\\lib\\site-packages (from openai>=1.58->pyautogen[openai]==0.7.6; extra == \"openai\"->ag2[openai]) (1.3.0)\n",
      "Requirement already satisfied: tqdm>4 in d:\\anaconda3\\envs\\finrobot\\lib\\site-packages (from openai>=1.58->pyautogen[openai]==0.7.6; extra == \"openai\"->ag2[openai]) (4.66.1)\n",
      "Requirement already satisfied: typing-extensions<5,>=4.11 in d:\\anaconda3\\envs\\finrobot\\lib\\site-packages (from openai>=1.58->pyautogen[openai]==0.7.6; extra == \"openai\"->ag2[openai]) (4.12.2)\n",
      "Requirement already satisfied: annotated-types>=0.6.0 in d:\\anaconda3\\envs\\finrobot\\lib\\site-packages (from pydantic<3,>=2.6.1->pyautogen==0.7.6->ag2[openai]) (0.7.0)\n",
      "Requirement already satisfied: pydantic-core==2.27.2 in d:\\anaconda3\\envs\\finrobot\\lib\\site-packages (from pydantic<3,>=2.6.1->pyautogen==0.7.6->ag2[openai]) (2.27.2)\n",
      "Requirement already satisfied: pywin32>=304 in d:\\anaconda3\\envs\\finrobot\\lib\\site-packages (from docker->pyautogen==0.7.6->ag2[openai]) (308)\n",
      "Requirement already satisfied: requests>=2.26.0 in d:\\anaconda3\\envs\\finrobot\\lib\\site-packages (from docker->pyautogen==0.7.6->ag2[openai]) (2.31.0)\n",
      "Requirement already satisfied: urllib3>=1.26.0 in d:\\anaconda3\\envs\\finrobot\\lib\\site-packages (from docker->pyautogen==0.7.6->ag2[openai]) (2.3.0)\n",
      "Requirement already satisfied: regex>=2022.1.18 in d:\\anaconda3\\envs\\finrobot\\lib\\site-packages (from tiktoken->pyautogen==0.7.6->ag2[openai]) (2024.11.6)\n",
      "Requirement already satisfied: exceptiongroup>=1.0.2 in d:\\anaconda3\\envs\\finrobot\\lib\\site-packages (from anyio<5.0,>=3.4.0->asyncer==0.0.8->pyautogen==0.7.6->ag2[openai]) (1.2.0)\n",
      "Requirement already satisfied: charset-normalizer<4,>=2 in d:\\anaconda3\\envs\\finrobot\\lib\\site-packages (from requests>=2.26.0->docker->pyautogen==0.7.6->ag2[openai]) (3.3.2)\n",
      "Requirement already satisfied: colorama in d:\\anaconda3\\envs\\finrobot\\lib\\site-packages (from tqdm>4->openai>=1.58->pyautogen[openai]==0.7.6; extra == \"openai\"->ag2[openai]) (0.4.6)\n"
     ]
    }
   ],
   "source": [
    "# !pip install ag2[openai]"
   ]
  },
  {
   "cell_type": "code",
   "execution_count": 5,
   "metadata": {},
   "outputs": [],
   "source": [
    "# Intermediate results will be saved in this directory\n",
    "work_dir = \"myreport\"\n",
    "os.makedirs(work_dir, exist_ok=True)\n",
    "\n",
    "assistant = SingleAssistantShadow(\n",
    "    \"Expert_Investor\",\n",
    "    llm_config,\n",
    "    max_consecutive_auto_reply=None,\n",
    "    human_input_mode=\"TERMINATE\",\n",
    ")"
   ]
  },
  {
   "cell_type": "code",
   "execution_count": 6,
   "metadata": {},
   "outputs": [
    {
     "name": "stdout",
     "output_type": "stream",
     "text": [
      "\u001b[33mUser_Proxy\u001b[0m (to Expert_Investor):\n",
      "\n",
      "\n",
      "With the tools you've been provided, write an annual report based on Apple Inc.'s 2023 10-k report, format it into a pdf.\n",
      "Pay attention to the followings:\n",
      "- Explicitly explain your working plan before you kick off.\n",
      "- Use tools one by one for clarity, especially when asking for instructions. \n",
      "- All your file operations should be done in \"myreport\". \n",
      "- Display any image in the chat once generated.\n",
      "- All the paragraphs should combine between 400 and 450 words, don't generate the pdf until this is explicitly fulfilled.\n",
      "\n",
      "\n",
      "--------------------------------------------------------------------------------\n",
      "\u001b[33mExpert_Investor\u001b[0m (to User_Proxy):\n",
      "\n",
      "\u001b[32m***** Suggested tool call (call_za0m): get_sec_report *****\u001b[0m\n",
      "Arguments: \n",
      "{\"ticker_symbol\": \"AAPL\", \"fyear\": \"2023\"}\n",
      "\u001b[32m***********************************************************\u001b[0m\n",
      "\n",
      "--------------------------------------------------------------------------------\n",
      "\u001b[31m\n",
      ">>>>>>>> USING AUTO REPLY...\u001b[0m\n",
      "\u001b[35m\n",
      ">>>>>>>> EXECUTING FUNCTION get_sec_report...\n",
      "Call ID: call_za0m\n",
      "Input arguments: {'ticker_symbol': 'AAPL', 'fyear': '2023'}\u001b[0m\n"
     ]
    },
    {
     "name": "stderr",
     "output_type": "stream",
     "text": [
      "D:\\Anaconda3\\envs\\finrobot\\lib\\site-packages\\autogen\\oai\\groq.py:279: UserWarning: Cost calculation not available for model llama-3.3-70b-versatile\n",
      "  warnings.warn(f\"Cost calculation not available for model {model}\", UserWarning)\n"
     ]
    },
    {
     "name": "stdout",
     "output_type": "stream",
     "text": [
      "FMP api key found successfully.\n",
      "\u001b[33mUser_Proxy\u001b[0m (to Expert_Investor):\n",
      "\n",
      "\u001b[32m***** Response from calling tool (call_za0m) *****\u001b[0m\n",
      "Link: https://www.sec.gov/Archives/edgar/data/320193/000032019323000106/aapl-20230930.htm\n",
      "Filing Date: 2023-11-03 00:00:00\n",
      "\u001b[32m**************************************************\u001b[0m\n",
      "\n",
      "--------------------------------------------------------------------------------\n",
      "\u001b[33mExpert_Investor\u001b[0m (to User_Proxy):\n",
      "\n",
      "\u001b[32m***** Suggested tool call (call_ew0t): analyze_business_highlights *****\u001b[0m\n",
      "Arguments: \n",
      "{\"ticker_symbol\": \"AAPL\", \"fyear\": \"2023\", \"save_path\": \"myreport/business_highlights.txt\"}\n",
      "\u001b[32m************************************************************************\u001b[0m\n",
      "\u001b[32m***** Suggested tool call (call_psht): analyze_income_stmt *****\u001b[0m\n",
      "Arguments: \n",
      "{\"ticker_symbol\": \"AAPL\", \"fyear\": \"2023\", \"save_path\": \"myreport/income_stmt_analysis.txt\"}\n",
      "\u001b[32m****************************************************************\u001b[0m\n",
      "\u001b[32m***** Suggested tool call (call_66p5): analyze_segment_stmt *****\u001b[0m\n",
      "Arguments: \n",
      "{\"ticker_symbol\": \"AAPL\", \"fyear\": \"2023\", \"save_path\": \"myreport/segment_analysis.txt\"}\n",
      "\u001b[32m*****************************************************************\u001b[0m\n",
      "\u001b[32m***** Suggested tool call (call_xj1p): get_risk_assessment *****\u001b[0m\n",
      "Arguments: \n",
      "{\"ticker_symbol\": \"AAPL\", \"fyear\": \"2023\", \"save_path\": \"myreport/risk_assessment.txt\"}\n",
      "\u001b[32m****************************************************************\u001b[0m\n",
      "\u001b[32m***** Suggested tool call (call_1stb): get_competitors_analysis *****\u001b[0m\n",
      "Arguments: \n",
      "{\"ticker_symbol\": \"AAPL\", \"competitors\": [\"GOOG\", \"MSFT\"], \"fyear\": \"2023\", \"save_path\": \"myreport/competitors_analysis.txt\"}\n",
      "\u001b[32m*********************************************************************\u001b[0m\n",
      "\u001b[32m***** Suggested tool call (call_bsd9): income_summarization *****\u001b[0m\n",
      "Arguments: \n",
      "{\"ticker_symbol\": \"AAPL\", \"fyear\": \"2023\", \"income_stmt_analysis\": \"myreport/income_stmt_analysis.txt\", \"segment_analysis\": \"myreport/segment_analysis.txt\", \"save_path\": \"myreport/income_summarization.txt\"}\n",
      "\u001b[32m*****************************************************************\u001b[0m\n",
      "\u001b[32m***** Suggested tool call (call_yxem): get_key_data *****\u001b[0m\n",
      "Arguments: \n",
      "{\"ticker_symbol\": \"AAPL\", \"filing_date\": \"2023-11-03\"}\n",
      "\u001b[32m*********************************************************\u001b[0m\n",
      "\u001b[32m***** Suggested tool call (call_vxse): get_pe_eps_performance *****\u001b[0m\n",
      "Arguments: \n",
      "{\"ticker_symbol\": \"AAPL\", \"filing_date\": \"2023-11-03\", \"save_path\": \"myreport/pe_eps_performance.png\"}\n",
      "\u001b[32m*******************************************************************\u001b[0m\n",
      "\u001b[32m***** Suggested tool call (call_a76m): get_share_performance *****\u001b[0m\n",
      "Arguments: \n",
      "{\"ticker_symbol\": \"AAPL\", \"filing_date\": \"2023-11-03\", \"save_path\": \"myreport/share_performance.png\"}\n",
      "\u001b[32m******************************************************************\u001b[0m\n",
      "\n",
      "--------------------------------------------------------------------------------\n",
      "\u001b[31m\n",
      ">>>>>>>> USING AUTO REPLY...\u001b[0m\n",
      "\u001b[35m\n",
      ">>>>>>>> EXECUTING FUNCTION analyze_business_highlights...\n",
      "Call ID: call_ew0t\n",
      "Input arguments: {'ticker_symbol': 'AAPL', 'fyear': '2023', 'save_path': 'myreport/business_highlights.txt'}\u001b[0m\n",
      "Sec Api initialized\n",
      "FMP api key found successfully.\n",
      "Sec Api initialized\n",
      "FMP api key found successfully.\n",
      "\u001b[35m\n",
      ">>>>>>>> EXECUTING FUNCTION analyze_income_stmt...\n",
      "Call ID: call_psht\n",
      "Input arguments: {'ticker_symbol': 'AAPL', 'fyear': '2023', 'save_path': 'myreport/income_stmt_analysis.txt'}\u001b[0m\n",
      "Sec Api initialized\n",
      "FMP api key found successfully.\n",
      "\u001b[35m\n",
      ">>>>>>>> EXECUTING FUNCTION analyze_segment_stmt...\n",
      "Call ID: call_66p5\n",
      "Input arguments: {'ticker_symbol': 'AAPL', 'fyear': '2023', 'save_path': 'myreport/segment_analysis.txt'}\u001b[0m\n",
      "Sec Api initialized\n",
      "FMP api key found successfully.\n",
      "\u001b[35m\n",
      ">>>>>>>> EXECUTING FUNCTION get_risk_assessment...\n",
      "Call ID: call_xj1p\n",
      "Input arguments: {'ticker_symbol': 'AAPL', 'fyear': '2023', 'save_path': 'myreport/risk_assessment.txt'}\u001b[0m\n",
      "Sec Api initialized\n",
      "FMP api key found successfully.\n",
      "\u001b[35m\n",
      ">>>>>>>> EXECUTING FUNCTION get_competitors_analysis...\n",
      "Call ID: call_1stb\n",
      "Input arguments: {'ticker_symbol': 'AAPL', 'competitors': ['GOOG', 'MSFT'], 'fyear': '2023', 'save_path': 'myreport/competitors_analysis.txt'}\u001b[0m\n",
      "FMP api key found successfully.\n",
      "\u001b[35m\n",
      ">>>>>>>> EXECUTING FUNCTION income_summarization...\n",
      "Call ID: call_bsd9\n",
      "Input arguments: {'ticker_symbol': 'AAPL', 'fyear': '2023', 'income_stmt_analysis': 'myreport/income_stmt_analysis.txt', 'segment_analysis': 'myreport/segment_analysis.txt', 'save_path': 'myreport/income_summarization.txt'}\u001b[0m\n",
      "Sec Api initialized\n",
      "FMP api key found successfully.\n",
      "\u001b[35m\n",
      ">>>>>>>> EXECUTING FUNCTION get_key_data...\n",
      "Call ID: call_yxem\n",
      "Input arguments: {'ticker_symbol': 'AAPL', 'filing_date': '2023-11-03'}\u001b[0m\n",
      "FMP api key found successfully.\n",
      "FMP api key found successfully.\n",
      "FMP api key found successfully.\n",
      "\u001b[35m\n",
      ">>>>>>>> EXECUTING FUNCTION get_pe_eps_performance...\n",
      "Call ID: call_vxse\n",
      "Input arguments: {'ticker_symbol': 'AAPL', 'filing_date': '2023-11-03', 'save_path': 'myreport/pe_eps_performance.png'}\u001b[0m\n",
      "\u001b[35m\n",
      ">>>>>>>> EXECUTING FUNCTION get_share_performance...\n",
      "Call ID: call_a76m\n",
      "Input arguments: {'ticker_symbol': 'AAPL', 'filing_date': '2023-11-03', 'save_path': 'myreport/share_performance.png'}\u001b[0m\n",
      "\u001b[33mUser_Proxy\u001b[0m (to Expert_Investor):\n",
      "\n",
      "\u001b[32m***** Response from calling tool (call_ew0t) *****\u001b[0m\n",
      "instruction & resources saved to myreport/business_highlights.txt\n",
      "\u001b[32m**************************************************\u001b[0m\n",
      "\n",
      "--------------------------------------------------------------------------------\n",
      "\u001b[32m***** Response from calling tool (call_psht) *****\u001b[0m\n",
      "instruction & resources saved to myreport/income_stmt_analysis.txt\n",
      "\u001b[32m**************************************************\u001b[0m\n",
      "\n",
      "--------------------------------------------------------------------------------\n",
      "\u001b[32m***** Response from calling tool (call_66p5) *****\u001b[0m\n",
      "instruction & resources saved to myreport/segment_analysis.txt\n",
      "\u001b[32m**************************************************\u001b[0m\n",
      "\n",
      "--------------------------------------------------------------------------------\n",
      "\u001b[32m***** Response from calling tool (call_xj1p) *****\u001b[0m\n",
      "instruction & resources saved to myreport/risk_assessment.txt\n",
      "\u001b[32m**************************************************\u001b[0m\n",
      "\n",
      "--------------------------------------------------------------------------------\n",
      "\u001b[32m***** Response from calling tool (call_1stb) *****\u001b[0m\n",
      "instruction & resources saved to myreport/competitors_analysis.txt\n",
      "\u001b[32m**************************************************\u001b[0m\n",
      "\n",
      "--------------------------------------------------------------------------------\n",
      "\u001b[32m***** Response from calling tool (call_bsd9) *****\u001b[0m\n",
      "instruction & resources saved to myreport/income_summarization.txt\n",
      "\u001b[32m**************************************************\u001b[0m\n",
      "\n",
      "--------------------------------------------------------------------------------\n",
      "\u001b[32m***** Response from calling tool (call_yxem) *****\u001b[0m\n",
      "{'Rating': 'buy', 'Target Price': 'Failed to retrieve data: 403', '6m avg daily vol (USDmn)': '57.84', 'Closing Price (USD)': '176.28', 'Market Cap (USDmn)': '2739799.63', '52 Week Price Range (USD)': '126.30 - 193.60', 'BVPS (USD)': '3.95'}\n",
      "\u001b[32m**************************************************\u001b[0m\n",
      "\n",
      "--------------------------------------------------------------------------------\n",
      "\u001b[32m***** Response from calling tool (call_vxse) *****\u001b[0m\n",
      "pe performance chart saved to <img myreport/pe_eps_performance.png>\n",
      "\u001b[32m**************************************************\u001b[0m\n",
      "\n",
      "--------------------------------------------------------------------------------\n",
      "\u001b[32m***** Response from calling tool (call_a76m) *****\u001b[0m\n",
      "last year stock performance chart saved to <img myreport/share_performance.png>\n",
      "\u001b[32m**************************************************\u001b[0m\n",
      "\n",
      "--------------------------------------------------------------------------------\n"
     ]
    },
    {
     "ename": "FileNotFoundError",
     "evalue": "[Errno 2] No such file or directory: \"myreport/business_highlights.txt\\n\\nmyreport/income_stmt_analysis.txt\\n\\nmyreport/segment_analysis.txt\\n\\nmyreport/risk_assessment.txt\\n\\nmyreport/competitors_analysis.txt\\n\\nmyreport/income_summarization.txt\\n\\n{'Rating': 'buy', 'Target Price': 'Failed to retrieve data: 403', '6m avg daily vol (USDmn)': '57.84', 'Closing Price (USD)': '176.28', 'Market Cap (USDmn)': '2739799.63', '52 Week Price Range (USD)': '126.30 - 193.60', 'BVPS (USD)': '3.95'}\\n\\npe performance chart saved to <img myreport/pe_eps_performance.png>\\n\\nlast year stock performance chart saved to <img myreport/share_performance.png>\"",
     "output_type": "error",
     "traceback": [
      "\u001b[1;31m---------------------------------------------------------------------------\u001b[0m",
      "\u001b[1;31mFileNotFoundError\u001b[0m                         Traceback (most recent call last)",
      "Cell \u001b[1;32mIn[6], line 16\u001b[0m\n\u001b[0;32m      2\u001b[0m fyear \u001b[38;5;241m=\u001b[39m \u001b[38;5;124m\"\u001b[39m\u001b[38;5;124m2023\u001b[39m\u001b[38;5;124m\"\u001b[39m\n\u001b[0;32m      4\u001b[0m message \u001b[38;5;241m=\u001b[39m dedent(\n\u001b[0;32m      5\u001b[0m     \u001b[38;5;124mf\u001b[39m\u001b[38;5;124m\"\"\"\u001b[39m\n\u001b[0;32m      6\u001b[0m \u001b[38;5;124m    With the tools you\u001b[39m\u001b[38;5;124m'\u001b[39m\u001b[38;5;124mve been provided, write an annual report based on \u001b[39m\u001b[38;5;132;01m{\u001b[39;00mcompany\u001b[38;5;132;01m}\u001b[39;00m\u001b[38;5;124m'\u001b[39m\u001b[38;5;124ms \u001b[39m\u001b[38;5;132;01m{\u001b[39;00mfyear\u001b[38;5;132;01m}\u001b[39;00m\u001b[38;5;124m 10-k report, format it into a pdf.\u001b[39m\n\u001b[1;32m   (...)\u001b[0m\n\u001b[0;32m     13\u001b[0m \u001b[38;5;124m\"\"\"\u001b[39m\n\u001b[0;32m     14\u001b[0m )\n\u001b[1;32m---> 16\u001b[0m \u001b[43massistant\u001b[49m\u001b[38;5;241;43m.\u001b[39;49m\u001b[43mchat\u001b[49m\u001b[43m(\u001b[49m\u001b[43mmessage\u001b[49m\u001b[43m,\u001b[49m\u001b[43m \u001b[49m\u001b[43muse_cache\u001b[49m\u001b[38;5;241;43m=\u001b[39;49m\u001b[38;5;28;43;01mTrue\u001b[39;49;00m\u001b[43m,\u001b[49m\u001b[43m \u001b[49m\u001b[43mmax_turns\u001b[49m\u001b[38;5;241;43m=\u001b[39;49m\u001b[38;5;241;43m50\u001b[39;49m\u001b[43m,\u001b[49m\n\u001b[0;32m     17\u001b[0m \u001b[43m               \u001b[49m\u001b[43msummary_method\u001b[49m\u001b[38;5;241;43m=\u001b[39;49m\u001b[38;5;124;43m\"\u001b[39;49m\u001b[38;5;124;43mlast_msg\u001b[39;49m\u001b[38;5;124;43m\"\u001b[39;49m\u001b[43m)\u001b[49m\n",
      "File \u001b[1;32mD:\\My\\FinRobot\\finrobot\\agents\\workflow.py:154\u001b[0m, in \u001b[0;36mSingleAssistant.chat\u001b[1;34m(self, message, use_cache, **kwargs)\u001b[0m\n\u001b[0;32m    152\u001b[0m \u001b[38;5;28;01mdef\u001b[39;00m \u001b[38;5;21mchat\u001b[39m(\u001b[38;5;28mself\u001b[39m, message: \u001b[38;5;28mstr\u001b[39m, use_cache\u001b[38;5;241m=\u001b[39m\u001b[38;5;28;01mFalse\u001b[39;00m, \u001b[38;5;241m*\u001b[39m\u001b[38;5;241m*\u001b[39mkwargs):\n\u001b[0;32m    153\u001b[0m     \u001b[38;5;28;01mwith\u001b[39;00m Cache\u001b[38;5;241m.\u001b[39mdisk() \u001b[38;5;28;01mas\u001b[39;00m cache:\n\u001b[1;32m--> 154\u001b[0m         \u001b[38;5;28mself\u001b[39m\u001b[38;5;241m.\u001b[39muser_proxy\u001b[38;5;241m.\u001b[39minitiate_chat(\n\u001b[0;32m    155\u001b[0m             \u001b[38;5;28mself\u001b[39m\u001b[38;5;241m.\u001b[39massistant,\n\u001b[0;32m    156\u001b[0m             message\u001b[38;5;241m=\u001b[39mmessage,\n\u001b[0;32m    157\u001b[0m             cache\u001b[38;5;241m=\u001b[39mcache \u001b[38;5;28;01mif\u001b[39;00m use_cache \u001b[38;5;28;01melse\u001b[39;00m \u001b[38;5;28;01mNone\u001b[39;00m,\n\u001b[0;32m    158\u001b[0m             \u001b[38;5;241m*\u001b[39m\u001b[38;5;241m*\u001b[39mkwargs,\n\u001b[0;32m    159\u001b[0m         )\n\u001b[0;32m    161\u001b[0m     \u001b[38;5;28mprint\u001b[39m(\u001b[38;5;124m\"\u001b[39m\u001b[38;5;124mCurrent chat finished. Resetting agents ...\u001b[39m\u001b[38;5;124m\"\u001b[39m)\n\u001b[0;32m    162\u001b[0m     \u001b[38;5;28mself\u001b[39m\u001b[38;5;241m.\u001b[39mreset()\n",
      "File \u001b[1;32mD:\\Anaconda3\\envs\\finrobot\\lib\\site-packages\\autogen\\agentchat\\conversable_agent.py:1492\u001b[0m, in \u001b[0;36mConversableAgent.initiate_chat\u001b[1;34m(self, recipient, clear_history, silent, cache, max_turns, summary_method, summary_args, message, **kwargs)\u001b[0m\n\u001b[0;32m   1490\u001b[0m         \u001b[38;5;28;01mif\u001b[39;00m msg2send \u001b[38;5;129;01mis\u001b[39;00m \u001b[38;5;28;01mNone\u001b[39;00m:\n\u001b[0;32m   1491\u001b[0m             \u001b[38;5;28;01mbreak\u001b[39;00m\n\u001b[1;32m-> 1492\u001b[0m         \u001b[38;5;28;43mself\u001b[39;49m\u001b[38;5;241;43m.\u001b[39;49m\u001b[43msend\u001b[49m\u001b[43m(\u001b[49m\u001b[43mmsg2send\u001b[49m\u001b[43m,\u001b[49m\u001b[43m \u001b[49m\u001b[43mrecipient\u001b[49m\u001b[43m,\u001b[49m\u001b[43m \u001b[49m\u001b[43mrequest_reply\u001b[49m\u001b[38;5;241;43m=\u001b[39;49m\u001b[38;5;28;43;01mTrue\u001b[39;49;00m\u001b[43m,\u001b[49m\u001b[43m \u001b[49m\u001b[43msilent\u001b[49m\u001b[38;5;241;43m=\u001b[39;49m\u001b[43msilent\u001b[49m\u001b[43m)\u001b[49m\n\u001b[0;32m   1493\u001b[0m \u001b[38;5;28;01melse\u001b[39;00m:\n\u001b[0;32m   1494\u001b[0m     \u001b[38;5;28mself\u001b[39m\u001b[38;5;241m.\u001b[39m_prepare_chat(recipient, clear_history)\n",
      "File \u001b[1;32mD:\\Anaconda3\\envs\\finrobot\\lib\\site-packages\\autogen\\agentchat\\conversable_agent.py:1191\u001b[0m, in \u001b[0;36mConversableAgent.send\u001b[1;34m(self, message, recipient, request_reply, silent)\u001b[0m\n\u001b[0;32m   1189\u001b[0m valid \u001b[38;5;241m=\u001b[39m \u001b[38;5;28mself\u001b[39m\u001b[38;5;241m.\u001b[39m_append_oai_message(message, \u001b[38;5;124m\"\u001b[39m\u001b[38;5;124massistant\u001b[39m\u001b[38;5;124m\"\u001b[39m, recipient, is_sending\u001b[38;5;241m=\u001b[39m\u001b[38;5;28;01mTrue\u001b[39;00m)\n\u001b[0;32m   1190\u001b[0m \u001b[38;5;28;01mif\u001b[39;00m valid:\n\u001b[1;32m-> 1191\u001b[0m     \u001b[43mrecipient\u001b[49m\u001b[38;5;241;43m.\u001b[39;49m\u001b[43mreceive\u001b[49m\u001b[43m(\u001b[49m\u001b[43mmessage\u001b[49m\u001b[43m,\u001b[49m\u001b[43m \u001b[49m\u001b[38;5;28;43mself\u001b[39;49m\u001b[43m,\u001b[49m\u001b[43m \u001b[49m\u001b[43mrequest_reply\u001b[49m\u001b[43m,\u001b[49m\u001b[43m \u001b[49m\u001b[43msilent\u001b[49m\u001b[43m)\u001b[49m\n\u001b[0;32m   1192\u001b[0m \u001b[38;5;28;01melse\u001b[39;00m:\n\u001b[0;32m   1193\u001b[0m     \u001b[38;5;28;01mraise\u001b[39;00m \u001b[38;5;167;01mValueError\u001b[39;00m(\n\u001b[0;32m   1194\u001b[0m         \u001b[38;5;124m\"\u001b[39m\u001b[38;5;124mMessage can\u001b[39m\u001b[38;5;124m'\u001b[39m\u001b[38;5;124mt be converted into a valid ChatCompletion message. Either content or function_call must be provided.\u001b[39m\u001b[38;5;124m\"\u001b[39m\n\u001b[0;32m   1195\u001b[0m     )\n",
      "File \u001b[1;32mD:\\Anaconda3\\envs\\finrobot\\lib\\site-packages\\autogen\\agentchat\\conversable_agent.py:1299\u001b[0m, in \u001b[0;36mConversableAgent.receive\u001b[1;34m(self, message, sender, request_reply, silent)\u001b[0m\n\u001b[0;32m   1297\u001b[0m \u001b[38;5;28;01mif\u001b[39;00m request_reply \u001b[38;5;129;01mis\u001b[39;00m \u001b[38;5;28;01mFalse\u001b[39;00m \u001b[38;5;129;01mor\u001b[39;00m (request_reply \u001b[38;5;129;01mis\u001b[39;00m \u001b[38;5;28;01mNone\u001b[39;00m \u001b[38;5;129;01mand\u001b[39;00m \u001b[38;5;28mself\u001b[39m\u001b[38;5;241m.\u001b[39mreply_at_receive[sender] \u001b[38;5;129;01mis\u001b[39;00m \u001b[38;5;28;01mFalse\u001b[39;00m):\n\u001b[0;32m   1298\u001b[0m     \u001b[38;5;28;01mreturn\u001b[39;00m\n\u001b[1;32m-> 1299\u001b[0m reply \u001b[38;5;241m=\u001b[39m \u001b[38;5;28;43mself\u001b[39;49m\u001b[38;5;241;43m.\u001b[39;49m\u001b[43mgenerate_reply\u001b[49m\u001b[43m(\u001b[49m\u001b[43mmessages\u001b[49m\u001b[38;5;241;43m=\u001b[39;49m\u001b[38;5;28;43mself\u001b[39;49m\u001b[38;5;241;43m.\u001b[39;49m\u001b[43mchat_messages\u001b[49m\u001b[43m[\u001b[49m\u001b[43msender\u001b[49m\u001b[43m]\u001b[49m\u001b[43m,\u001b[49m\u001b[43m \u001b[49m\u001b[43msender\u001b[49m\u001b[38;5;241;43m=\u001b[39;49m\u001b[43msender\u001b[49m\u001b[43m)\u001b[49m\n\u001b[0;32m   1300\u001b[0m \u001b[38;5;28;01mif\u001b[39;00m reply \u001b[38;5;129;01mis\u001b[39;00m \u001b[38;5;129;01mnot\u001b[39;00m \u001b[38;5;28;01mNone\u001b[39;00m:\n\u001b[0;32m   1301\u001b[0m     \u001b[38;5;28mself\u001b[39m\u001b[38;5;241m.\u001b[39msend(reply, sender, silent\u001b[38;5;241m=\u001b[39msilent)\n",
      "File \u001b[1;32mD:\\Anaconda3\\envs\\finrobot\\lib\\site-packages\\autogen\\agentchat\\conversable_agent.py:2437\u001b[0m, in \u001b[0;36mConversableAgent.generate_reply\u001b[1;34m(self, messages, sender, **kwargs)\u001b[0m\n\u001b[0;32m   2435\u001b[0m     \u001b[38;5;28;01mcontinue\u001b[39;00m\n\u001b[0;32m   2436\u001b[0m \u001b[38;5;28;01mif\u001b[39;00m \u001b[38;5;28mself\u001b[39m\u001b[38;5;241m.\u001b[39m_match_trigger(reply_func_tuple[\u001b[38;5;124m\"\u001b[39m\u001b[38;5;124mtrigger\u001b[39m\u001b[38;5;124m\"\u001b[39m], sender):\n\u001b[1;32m-> 2437\u001b[0m     final, reply \u001b[38;5;241m=\u001b[39m \u001b[43mreply_func\u001b[49m\u001b[43m(\u001b[49m\u001b[38;5;28;43mself\u001b[39;49m\u001b[43m,\u001b[49m\u001b[43m \u001b[49m\u001b[43mmessages\u001b[49m\u001b[38;5;241;43m=\u001b[39;49m\u001b[43mmessages\u001b[49m\u001b[43m,\u001b[49m\u001b[43m \u001b[49m\u001b[43msender\u001b[49m\u001b[38;5;241;43m=\u001b[39;49m\u001b[43msender\u001b[49m\u001b[43m,\u001b[49m\u001b[43m \u001b[49m\u001b[43mconfig\u001b[49m\u001b[38;5;241;43m=\u001b[39;49m\u001b[43mreply_func_tuple\u001b[49m\u001b[43m[\u001b[49m\u001b[38;5;124;43m\"\u001b[39;49m\u001b[38;5;124;43mconfig\u001b[39;49m\u001b[38;5;124;43m\"\u001b[39;49m\u001b[43m]\u001b[49m\u001b[43m)\u001b[49m\n\u001b[0;32m   2438\u001b[0m     \u001b[38;5;28;01mif\u001b[39;00m logging_enabled():\n\u001b[0;32m   2439\u001b[0m         log_event(\n\u001b[0;32m   2440\u001b[0m             \u001b[38;5;28mself\u001b[39m,\n\u001b[0;32m   2441\u001b[0m             \u001b[38;5;124m\"\u001b[39m\u001b[38;5;124mreply_func_executed\u001b[39m\u001b[38;5;124m\"\u001b[39m,\n\u001b[1;32m   (...)\u001b[0m\n\u001b[0;32m   2445\u001b[0m             reply\u001b[38;5;241m=\u001b[39mreply,\n\u001b[0;32m   2446\u001b[0m         )\n",
      "File \u001b[1;32mD:\\Anaconda3\\envs\\finrobot\\lib\\site-packages\\autogen\\agentchat\\conversable_agent.py:921\u001b[0m, in \u001b[0;36mConversableAgent.register_nested_chats.<locals>.wrapped_reply_func\u001b[1;34m(recipient, messages, sender, config)\u001b[0m\n\u001b[0;32m    920\u001b[0m \u001b[38;5;28;01mdef\u001b[39;00m \u001b[38;5;21mwrapped_reply_func\u001b[39m(recipient, messages\u001b[38;5;241m=\u001b[39m\u001b[38;5;28;01mNone\u001b[39;00m, sender\u001b[38;5;241m=\u001b[39m\u001b[38;5;28;01mNone\u001b[39;00m, config\u001b[38;5;241m=\u001b[39m\u001b[38;5;28;01mNone\u001b[39;00m):\n\u001b[1;32m--> 921\u001b[0m     \u001b[38;5;28;01mreturn\u001b[39;00m \u001b[43mreply_func_from_nested_chats\u001b[49m\u001b[43m(\u001b[49m\u001b[43mchat_queue\u001b[49m\u001b[43m,\u001b[49m\u001b[43m \u001b[49m\u001b[43mrecipient\u001b[49m\u001b[43m,\u001b[49m\u001b[43m \u001b[49m\u001b[43mmessages\u001b[49m\u001b[43m,\u001b[49m\u001b[43m \u001b[49m\u001b[43msender\u001b[49m\u001b[43m,\u001b[49m\u001b[43m \u001b[49m\u001b[43mconfig\u001b[49m\u001b[43m)\u001b[49m\n",
      "File \u001b[1;32mD:\\Anaconda3\\envs\\finrobot\\lib\\site-packages\\autogen\\agentchat\\conversable_agent.py:817\u001b[0m, in \u001b[0;36mConversableAgent._summary_from_nested_chats\u001b[1;34m(chat_queue, recipient, messages, sender, config)\u001b[0m\n\u001b[0;32m    812\u001b[0m \u001b[38;5;66;03m# Process carryover configuration\u001b[39;00m\n\u001b[0;32m    813\u001b[0m restore_chat_queue_message, original_chat_queue_message \u001b[38;5;241m=\u001b[39m ConversableAgent\u001b[38;5;241m.\u001b[39m_process_chat_queue_carryover(\n\u001b[0;32m    814\u001b[0m     chat_queue, recipient, messages, sender, config\n\u001b[0;32m    815\u001b[0m )\n\u001b[1;32m--> 817\u001b[0m chat_to_run \u001b[38;5;241m=\u001b[39m \u001b[43mConversableAgent\u001b[49m\u001b[38;5;241;43m.\u001b[39;49m\u001b[43m_get_chats_to_run\u001b[49m\u001b[43m(\u001b[49m\u001b[43mchat_queue\u001b[49m\u001b[43m,\u001b[49m\u001b[43m \u001b[49m\u001b[43mrecipient\u001b[49m\u001b[43m,\u001b[49m\u001b[43m \u001b[49m\u001b[43mmessages\u001b[49m\u001b[43m,\u001b[49m\u001b[43m \u001b[49m\u001b[43msender\u001b[49m\u001b[43m,\u001b[49m\u001b[43m \u001b[49m\u001b[43mconfig\u001b[49m\u001b[43m)\u001b[49m\n\u001b[0;32m    818\u001b[0m \u001b[38;5;28;01mif\u001b[39;00m \u001b[38;5;129;01mnot\u001b[39;00m chat_to_run:\n\u001b[0;32m    819\u001b[0m     \u001b[38;5;28;01mreturn\u001b[39;00m \u001b[38;5;28;01mTrue\u001b[39;00m, \u001b[38;5;28;01mNone\u001b[39;00m\n",
      "File \u001b[1;32mD:\\Anaconda3\\envs\\finrobot\\lib\\site-packages\\autogen\\agentchat\\conversable_agent.py:640\u001b[0m, in \u001b[0;36mConversableAgent._get_chats_to_run\u001b[1;34m(chat_queue, recipient, messages, sender, config)\u001b[0m\n\u001b[0;32m    638\u001b[0m     message \u001b[38;5;241m=\u001b[39m last_msg\n\u001b[0;32m    639\u001b[0m \u001b[38;5;28;01mif\u001b[39;00m \u001b[38;5;28mcallable\u001b[39m(message):\n\u001b[1;32m--> 640\u001b[0m     message \u001b[38;5;241m=\u001b[39m \u001b[43mmessage\u001b[49m\u001b[43m(\u001b[49m\u001b[43mrecipient\u001b[49m\u001b[43m,\u001b[49m\u001b[43m \u001b[49m\u001b[43mmessages\u001b[49m\u001b[43m,\u001b[49m\u001b[43m \u001b[49m\u001b[43msender\u001b[49m\u001b[43m,\u001b[49m\u001b[43m \u001b[49m\u001b[43mconfig\u001b[49m\u001b[43m)\u001b[49m\n\u001b[0;32m    641\u001b[0m \u001b[38;5;66;03m# We only run chat that has a valid message. NOTE: This is prone to change depending on applications.\u001b[39;00m\n\u001b[0;32m    642\u001b[0m \u001b[38;5;28;01mif\u001b[39;00m message:\n",
      "File \u001b[1;32mD:\\My\\FinRobot\\finrobot\\agents\\utils.py:14\u001b[0m, in \u001b[0;36minstruction_message\u001b[1;34m(recipient, messages, sender, config)\u001b[0m\n\u001b[0;32m     12\u001b[0m full_order \u001b[38;5;241m=\u001b[39m recipient\u001b[38;5;241m.\u001b[39mchat_messages_for_summary(sender)[\u001b[38;5;241m-\u001b[39m\u001b[38;5;241m1\u001b[39m][\u001b[38;5;124m\"\u001b[39m\u001b[38;5;124mcontent\u001b[39m\u001b[38;5;124m\"\u001b[39m]\n\u001b[0;32m     13\u001b[0m txt_path \u001b[38;5;241m=\u001b[39m full_order\u001b[38;5;241m.\u001b[39mreplace(\u001b[38;5;124m\"\u001b[39m\u001b[38;5;124minstruction & resources saved to \u001b[39m\u001b[38;5;124m\"\u001b[39m, \u001b[38;5;124m\"\u001b[39m\u001b[38;5;124m\"\u001b[39m)\u001b[38;5;241m.\u001b[39mstrip()\n\u001b[1;32m---> 14\u001b[0m \u001b[38;5;28;01mwith\u001b[39;00m \u001b[38;5;28;43mopen\u001b[39;49m\u001b[43m(\u001b[49m\u001b[43mtxt_path\u001b[49m\u001b[43m,\u001b[49m\u001b[43m \u001b[49m\u001b[38;5;124;43m\"\u001b[39;49m\u001b[38;5;124;43mr\u001b[39;49m\u001b[38;5;124;43m\"\u001b[39;49m\u001b[43m)\u001b[49m \u001b[38;5;28;01mas\u001b[39;00m f:\n\u001b[0;32m     15\u001b[0m     instruction \u001b[38;5;241m=\u001b[39m f\u001b[38;5;241m.\u001b[39mread() \u001b[38;5;241m+\u001b[39m \u001b[38;5;124m\"\u001b[39m\u001b[38;5;130;01m\\n\u001b[39;00m\u001b[38;5;130;01m\\n\u001b[39;00m\u001b[38;5;124mReply TERMINATE at the end of your response.\u001b[39m\u001b[38;5;124m\"\u001b[39m\n\u001b[0;32m     16\u001b[0m \u001b[38;5;28;01mreturn\u001b[39;00m instruction\n",
      "\u001b[1;31mFileNotFoundError\u001b[0m: [Errno 2] No such file or directory: \"myreport/business_highlights.txt\\n\\nmyreport/income_stmt_analysis.txt\\n\\nmyreport/segment_analysis.txt\\n\\nmyreport/risk_assessment.txt\\n\\nmyreport/competitors_analysis.txt\\n\\nmyreport/income_summarization.txt\\n\\n{'Rating': 'buy', 'Target Price': 'Failed to retrieve data: 403', '6m avg daily vol (USDmn)': '57.84', 'Closing Price (USD)': '176.28', 'Market Cap (USDmn)': '2739799.63', '52 Week Price Range (USD)': '126.30 - 193.60', 'BVPS (USD)': '3.95'}\\n\\npe performance chart saved to <img myreport/pe_eps_performance.png>\\n\\nlast year stock performance chart saved to <img myreport/share_performance.png>\""
     ]
    }
   ],
   "source": [
    "company = \"Apple Inc.\"\n",
    "fyear = \"2023\"\n",
    "\n",
    "message = dedent(\n",
    "    f\"\"\"\n",
    "    With the tools you've been provided, write an annual report based on {company}'s {fyear} 10-k report, format it into a pdf.\n",
    "    Pay attention to the followings:\n",
    "    - Explicitly explain your working plan before you kick off.\n",
    "    - Use tools one by one for clarity, especially when asking for instructions. \n",
    "    - All your file operations should be done in \"{work_dir}\". \n",
    "    - Display any image in the chat once generated.\n",
    "    - All the paragraphs should combine between 400 and 450 words, don't generate the pdf until this is explicitly fulfilled.\n",
    "\"\"\"\n",
    ")\n",
    "\n",
    "assistant.chat(message, use_cache=True, max_turns=50,\n",
    "               summary_method=\"last_msg\")"
   ]
  },
  {
   "cell_type": "markdown",
   "metadata": {},
   "source": [
    "The Rest Cells are optional, simply used to show the generated PDF"
   ]
  },
  {
   "cell_type": "code",
   "execution_count": 7,
   "metadata": {},
   "outputs": [
    {
     "name": "stdout",
     "output_type": "stream",
     "text": [
      "Collecting PyMuPDF\n",
      "  Downloading pymupdf-1.25.3-cp39-abi3-win_amd64.whl.metadata (3.4 kB)\n",
      "Downloading pymupdf-1.25.3-cp39-abi3-win_amd64.whl (16.5 MB)\n",
      "   ---------------------------------------- 0.0/16.5 MB ? eta -:--:--\n",
      "    --------------------------------------- 0.3/16.5 MB ? eta -:--:--\n",
      "   - -------------------------------------- 0.5/16.5 MB 4.2 MB/s eta 0:00:04\n",
      "   --- ------------------------------------ 1.3/16.5 MB 2.7 MB/s eta 0:00:06\n",
      "   ---- ----------------------------------- 1.8/16.5 MB 2.6 MB/s eta 0:00:06\n",
      "   ----- ---------------------------------- 2.4/16.5 MB 2.7 MB/s eta 0:00:06\n",
      "   ------- -------------------------------- 3.1/16.5 MB 2.9 MB/s eta 0:00:05\n",
      "   --------- ------------------------------ 3.9/16.5 MB 3.0 MB/s eta 0:00:05\n",
      "   ----------- ---------------------------- 4.7/16.5 MB 3.1 MB/s eta 0:00:04\n",
      "   ------------- -------------------------- 5.8/16.5 MB 3.4 MB/s eta 0:00:04\n",
      "   ---------------- ----------------------- 6.8/16.5 MB 3.5 MB/s eta 0:00:03\n",
      "   ------------------- -------------------- 8.1/16.5 MB 3.8 MB/s eta 0:00:03\n",
      "   ------------------------ --------------- 10.0/16.5 MB 4.2 MB/s eta 0:00:02\n",
      "   --------------------------- ------------ 11.5/16.5 MB 4.5 MB/s eta 0:00:02\n",
      "   -------------------------------- ------- 13.4/16.5 MB 4.8 MB/s eta 0:00:01\n",
      "   --------------------------------- ------ 13.9/16.5 MB 4.9 MB/s eta 0:00:01\n",
      "   --------------------------------- ------ 13.9/16.5 MB 4.9 MB/s eta 0:00:01\n",
      "   --------------------------------- ------ 13.9/16.5 MB 4.9 MB/s eta 0:00:01\n",
      "   --------------------------------- ------ 13.9/16.5 MB 4.9 MB/s eta 0:00:01\n",
      "   ---------------------------------- ----- 14.2/16.5 MB 3.7 MB/s eta 0:00:01\n",
      "   ------------------------------------- -- 15.5/16.5 MB 3.8 MB/s eta 0:00:01\n",
      "   ---------------------------------------- 16.5/16.5 MB 3.9 MB/s eta 0:00:00\n",
      "Installing collected packages: PyMuPDF\n",
      "Successfully installed PyMuPDF-1.25.3\n"
     ]
    }
   ],
   "source": [
    "!pip install PyMuPDF"
   ]
  },
  {
   "cell_type": "code",
   "execution_count": 8,
   "metadata": {},
   "outputs": [
    {
     "ename": "FileNotFoundError",
     "evalue": "no such file: '../report/Apple_Annual_Report_2023.pdf'",
     "output_type": "error",
     "traceback": [
      "\u001b[1;31m---------------------------------------------------------------------------\u001b[0m",
      "\u001b[1;31mFileNotFoundError\u001b[0m                         Traceback (most recent call last)",
      "\u001b[1;32m~\\AppData\\Local\\Temp\\ipykernel_14176\\1446950926.py\u001b[0m in \u001b[0;36m?\u001b[1;34m()\u001b[0m\n\u001b[0;32m      2\u001b[0m \u001b[1;32mimport\u001b[0m \u001b[0mfitz\u001b[0m\u001b[1;33m\u001b[0m\u001b[1;33m\u001b[0m\u001b[0m\n\u001b[0;32m      3\u001b[0m \u001b[1;32mfrom\u001b[0m \u001b[0mPIL\u001b[0m \u001b[1;32mimport\u001b[0m \u001b[0mImage\u001b[0m\u001b[1;33m\u001b[0m\u001b[1;33m\u001b[0m\u001b[0m\n\u001b[0;32m      4\u001b[0m \u001b[1;33m\u001b[0m\u001b[0m\n\u001b[0;32m      5\u001b[0m \u001b[1;33m\u001b[0m\u001b[0m\n\u001b[1;32m----> 6\u001b[1;33m \u001b[0mpdf\u001b[0m \u001b[1;33m=\u001b[0m \u001b[0mfitz\u001b[0m\u001b[1;33m.\u001b[0m\u001b[0mopen\u001b[0m\u001b[1;33m(\u001b[0m\u001b[1;34m\"../report/Apple_Annual_Report_2023.pdf\"\u001b[0m\u001b[1;33m)\u001b[0m\u001b[1;33m\u001b[0m\u001b[1;33m\u001b[0m\u001b[0m\n\u001b[0m\u001b[0;32m      7\u001b[0m \u001b[0mpage\u001b[0m \u001b[1;33m=\u001b[0m \u001b[0mpdf\u001b[0m\u001b[1;33m.\u001b[0m\u001b[0mload_page\u001b[0m\u001b[1;33m(\u001b[0m\u001b[1;36m0\u001b[0m\u001b[1;33m)\u001b[0m\u001b[1;33m\u001b[0m\u001b[1;33m\u001b[0m\u001b[0m\n\u001b[0;32m      8\u001b[0m \u001b[0mpix\u001b[0m \u001b[1;33m=\u001b[0m \u001b[0mpage\u001b[0m\u001b[1;33m.\u001b[0m\u001b[0mget_pixmap\u001b[0m\u001b[1;33m(\u001b[0m\u001b[1;33m)\u001b[0m\u001b[1;33m\u001b[0m\u001b[1;33m\u001b[0m\u001b[0m\n\u001b[0;32m      9\u001b[0m \u001b[1;33m\u001b[0m\u001b[0m\n",
      "\u001b[1;32mD:\\Anaconda3\\envs\\finrobot\\lib\\site-packages\\pymupdf\\__init__.py\u001b[0m in \u001b[0;36m?\u001b[1;34m(self, filename, stream, filetype, rect, width, height, fontsize)\u001b[0m\n\u001b[0;32m   3035\u001b[0m                     \u001b[0mself\u001b[0m\u001b[1;33m.\u001b[0m\u001b[0mpage_count2\u001b[0m \u001b[1;33m=\u001b[0m \u001b[0mextra\u001b[0m\u001b[1;33m.\u001b[0m\u001b[0mpage_count_pdf\u001b[0m\u001b[1;33m\u001b[0m\u001b[1;33m\u001b[0m\u001b[0m\n\u001b[0;32m   3036\u001b[0m                 \u001b[1;32melse\u001b[0m\u001b[1;33m:\u001b[0m\u001b[1;33m\u001b[0m\u001b[1;33m\u001b[0m\u001b[0m\n\u001b[0;32m   3037\u001b[0m                     \u001b[0mself\u001b[0m\u001b[1;33m.\u001b[0m\u001b[0mpage_count2\u001b[0m \u001b[1;33m=\u001b[0m \u001b[0mextra\u001b[0m\u001b[1;33m.\u001b[0m\u001b[0mpage_count_fz\u001b[0m\u001b[1;33m\u001b[0m\u001b[1;33m\u001b[0m\u001b[0m\n\u001b[0;32m   3038\u001b[0m         \u001b[1;32mfinally\u001b[0m\u001b[1;33m:\u001b[0m\u001b[1;33m\u001b[0m\u001b[1;33m\u001b[0m\u001b[0m\n\u001b[1;32m-> 3039\u001b[1;33m             \u001b[0mJM_mupdf_show_errors\u001b[0m \u001b[1;33m=\u001b[0m \u001b[0mJM_mupdf_show_errors_old\u001b[0m\u001b[1;33m\u001b[0m\u001b[1;33m\u001b[0m\u001b[0m\n\u001b[0m",
      "\u001b[1;31mFileNotFoundError\u001b[0m: no such file: '../report/Apple_Annual_Report_2023.pdf'"
     ]
    }
   ],
   "source": [
    "import io\n",
    "import fitz\n",
    "from PIL import Image\n",
    "\n",
    "\n",
    "pdf = fitz.open(\"../report/Apple_Annual_Report_2023.pdf\")\n",
    "page = pdf.load_page(0)\n",
    "pix = page.get_pixmap()\n",
    "\n",
    "# Convert the Pixmap to a PIL Image\n",
    "img = Image.open(io.BytesIO(pix.tobytes(\"png\")))\n",
    "display(img)"
   ]
  },
  {
   "cell_type": "markdown",
   "metadata": {},
   "source": []
  }
 ],
 "metadata": {
  "kernelspec": {
   "display_name": "Python (finrobot)",
   "language": "python",
   "name": "finrobot"
  },
  "language_info": {
   "codemirror_mode": {
    "name": "ipython",
    "version": 3
   },
   "file_extension": ".py",
   "mimetype": "text/x-python",
   "name": "python",
   "nbconvert_exporter": "python",
   "pygments_lexer": "ipython3",
   "version": "3.10.16"
  }
 },
 "nbformat": 4,
 "nbformat_minor": 4
}
