{
 "cells": [
  {
   "cell_type": "code",
   "execution_count": null,
   "id": "318466dd-68be-4a96-b393-67509355b4e6",
   "metadata": {},
   "outputs": [],
   "source": [
    "import os\n",
    "import autogen\n",
    "from textwrap import dedent\n",
    "import sys\n",
    "\n",
    "sys.path.append(os.path.abspath(\"..\"))  # Add the parent directory\n",
    "from finrobot.utils import register_keys_from_json\n",
    "from finrobot.agents.workflow import SingleAssistantShadow"
   ]
  },
  {
   "cell_type": "code",
   "execution_count": null,
   "id": "568e32cd-bffb-4e32-90a1-02beabe86ea9",
   "metadata": {},
   "outputs": [],
   "source": [
    "llm_config = {\n",
    "    \"config_list\": autogen.config_list_from_json(\n",
    "        \"../OAI_CONFIG_LIST\",\n",
    "        filter_dict={\n",
    "            \"model\": [\"llama-3.3-70b-versatile\"], #Change model according to requirement\n",
    "        },\n",
    "    ),\n",
    "    \"timeout\": 120,\n",
    "    \"temperature\": 0.5,\n",
    "}\n",
    "register_keys_from_json(\"../config_api_keys\")"
   ]
  },
  {
   "cell_type": "code",
   "execution_count": null,
   "id": "b4c2c410-778e-493d-8c96-af197d08d1a7",
   "metadata": {},
   "outputs": [],
   "source": [
    "work_dir = \"weather_report\"\n",
    "os.makedirs(work_dir, exist_ok=True)\n",
    "assistant = SingleAssistantShadow(\n",
    "    \"Weather_Analyst\",\n",
    "    llm_config,\n",
    "    max_consecutive_auto_reply=None,\n",
    "    human_input_mode=\"TERMINATE\"\n",
    ")"
   ]
  },
  {
   "cell_type": "code",
   "execution_count": null,
   "id": "868213bd-c2f0-4892-95b5-f5fc4b80f835",
   "metadata": {},
   "outputs": [],
   "source": [
    "location= \"Nagpur, Maharashtra\"\n",
    "\n",
    "message = dedent(\n",
    "    f\"\"\"\n",
    "    Using the tools at your disposal, generate a comprehensive weather analysis report for **{location}**, considering the year **2020**. The report should focus on **rainfall and temperature data**, analyzing their impact on agriculture and predicting **suitable crops for cultivation**. Support your recommendations with detailed reasoning and evidence. \n",
    "    Pay attention to the following:\n",
    "    - Explicitly explain your working plan before starting.\n",
    "    - Use tools step-by-step to gather historical monthly rainfall and temperature data for {location} for 2020.\n",
    "    - Using the provided function gather soil information, crop information (Suggest atleast two crops and gather info) and information about crop-soil compatibility.\n",
    "    - Store all files in **\"{work_dir}\"** and ensure the data is accurate.\n",
    "    \n",
    "    After gathering data of monthly average rainfall, temperature and crop-soil related information, analyze it (data gathered will in in JSON format), build comprehensive report by adding facts and numerical data (wherever necessary) from gathered data and Return the final report as a JSON object following this format:\n",
    "    {{\n",
    "        \"Analysis_of_Rainfall_Trends\": \"...\",\n",
    "        \"Analysis_of_Temperature\": \"...\",\n",
    "        \"Crop_Suitability_and_Crop_Growth_Requirements\": \"...\",\n",
    "        \"Predictive_Insights_of_weather\": \"...\"\n",
    "    }}\n",
    "    Ensure each field is to be filled with well-reasoned, paragraph-style content.\n",
    "    Each key must have a **detailed paragraph** as the value (approx. 180–220 words per section) explaining the relevant analysis and insights. Avoid bullet points; use well-structured natural language paragraphs.\n",
    "    \n",
    "    After this, use the `build_structured_analysis_report` tool to convert the JSON into a readable PDF report.\n",
    "    \"\"\"\n",
    ")\n",
    "\n",
    "\n",
    "assistant.chat(message, use_cache=True, max_turns=50,\n",
    "               summary_method=\"last_msg\")"
   ]
  }
 ],
 "metadata": {
  "kernelspec": {
   "display_name": "Python (finrobot)",
   "language": "python",
   "name": "finrobot"
  },
  "language_info": {
   "codemirror_mode": {
    "name": "ipython",
    "version": 3
   },
   "file_extension": ".py",
   "mimetype": "text/x-python",
   "name": "python",
   "nbconvert_exporter": "python",
   "pygments_lexer": "ipython3",
   "version": "3.10.16"
  }
 },
 "nbformat": 4,
 "nbformat_minor": 5
}
